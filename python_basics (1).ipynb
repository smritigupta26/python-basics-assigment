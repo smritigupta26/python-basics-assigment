{
  "nbformat": 4,
  "nbformat_minor": 0,
  "metadata": {
    "colab": {
      "provenance": []
    },
    "kernelspec": {
      "name": "python3",
      "display_name": "Python 3"
    },
    "language_info": {
      "name": "python"
    }
  },
  "cells": [
    {
      "cell_type": "markdown",
      "source": [
        "# PYTHON BASICS\n",
        "\n",
        "1.Python Basics Questions\n",
        "\n",
        "\n",
        "1.What is Python, and why is it popular?\n",
        "\n",
        "\n",
        "  .> Python is a high-level, interpreted programming language known for it's vast ecosystem of libraries. It popular for web development, data science, AI, automation, and more.\n",
        "\n",
        "2 What is an interpreter in Python?\n",
        "\n",
        "\n",
        ".> An interpreter executes Python code line-by-line, translating it into machine code at runtime.\n",
        "\n",
        "3. What are pre-defined keywords in Python?\n",
        "\n",
        "\n",
        "  .>These are fixed  words that have special meaning in Python(e.g., if, else, for, etc.).\n",
        "\n",
        "4. Can keywords be used as variable names?\n",
        "\n",
        "\n",
        "  .>No, Python does not allow the use of keywords as variable names.\n",
        "\n",
        "5. What is mutability in Python?\n",
        "\n",
        "\n",
        "  .>Mutability refers to  an object's  whose value can be changed after they are created .\n",
        "\n",
        "6. Why are lists mutable, but tuples are immutable?\n",
        "\n",
        "\n",
        "   .>Lists are designed to allow changes like adding or removing elements and it support item assigment , while tuples are fixed collections for data and it does not support item assigment .\n",
        "\n",
        "7. What is the difference between \"==\" and \"is\" operators in Python?\n",
        "\n",
        "\n",
        "  .> \"==\" operators check value equality; \"is\" checks identity (whether two variables point to the same object in memory).\n",
        "\n",
        "8. What are logical operators in Python?\n",
        "\n",
        "\n",
        "  .> Logical operators are used to combine or modify conditional statements and they work with boolean value(True or False).\n",
        "\n",
        "9. What is type casting in Python?\n",
        "\n",
        "\n",
        "  .> Type casting is also known as type -conversion in Python it is used to  convert one data type mainly variable  into another (e.g., int(\"5\") to convert a string to an integer).\n",
        "\n",
        "10. What is the difference between implicit and explicit type casting?\n",
        "\n",
        "\n",
        "  .>Implicit type casting convert one data type to another automatically by Python without human interfernce like  num_int num_float etc. , while explicit type casting is used to convert one data type to another manually by using functions like int(), str(), etc.\n",
        "\n",
        "11. What is the purpose of conditional statements in Python?\n",
        "\n",
        "\n",
        "  .> They control the flow of execution with in a program which are  based on certain conditions. The primary conditional statement in Python are if, elif and  else.\n",
        "\n",
        "12. How does the elif statement work?\n",
        "\n",
        "\n",
        "  .>It executes the 'if' block when true and if it is not true then it executes the 'else' block.\n",
        "\n",
        "\n",
        "13. What is the difference between for and while loops?\n",
        "\n",
        "\n",
        "  .> For loops are used when the number of iterations is known; while loops repeatedly exexute a block of code  until condition is met.\n",
        "\n",
        "14. Describe a scenario where a while loop is more suitable than a for loop.\n",
        "\n",
        "\n",
        "  .> A while loop is more suitable than a for loop when the number of iterations are unknown."
      ],
      "metadata": {
        "id": "cDUmR3ZTjoMX"
      }
    },
    {
      "cell_type": "code",
      "source": [
        "print(\"hello world\")"
      ],
      "metadata": {
        "colab": {
          "base_uri": "https://localhost:8080/"
        },
        "id": "LYxCiIXztfe9",
        "outputId": "3e8e1480-36ec-4769-843e-d2bb8d06d27e"
      },
      "execution_count": 1,
      "outputs": [
        {
          "output_type": "stream",
          "name": "stdout",
          "text": [
            "hello world\n"
          ]
        }
      ]
    },
    {
      "cell_type": "code",
      "source": [
        "name = \"SMRITI GUPTA \"\n",
        "age  = 22\n",
        "print(\"name\", name)\n",
        "print(\"age\", age)"
      ],
      "metadata": {
        "colab": {
          "base_uri": "https://localhost:8080/"
        },
        "id": "Sp4Hx-6kuDdT",
        "outputId": "b05e824d-5be6-4f83-8c2a-f8013b6b1dbb"
      },
      "execution_count": 4,
      "outputs": [
        {
          "output_type": "stream",
          "name": "stdout",
          "text": [
            "name SMRITI GUPTA \n",
            "age 22\n"
          ]
        }
      ]
    },
    {
      "cell_type": "code",
      "source": [
        "import keyword\n",
        "print(keyword.kwlist)"
      ],
      "metadata": {
        "colab": {
          "base_uri": "https://localhost:8080/"
        },
        "id": "hW66Adiwuubs",
        "outputId": "f3246072-c001-415f-a851-79f59f8e4967"
      },
      "execution_count": 5,
      "outputs": [
        {
          "output_type": "stream",
          "name": "stdout",
          "text": [
            "['False', 'None', 'True', 'and', 'as', 'assert', 'async', 'await', 'break', 'class', 'continue', 'def', 'del', 'elif', 'else', 'except', 'finally', 'for', 'from', 'global', 'if', 'import', 'in', 'is', 'lambda', 'nonlocal', 'not', 'or', 'pass', 'raise', 'return', 'try', 'while', 'with', 'yield']\n"
          ]
        }
      ]
    },
    {
      "cell_type": "code",
      "source": [
        "import keyword\n",
        "word = input(\"Enter a word: \")\n",
        "print(keyword.iskeyword(word))\n"
      ],
      "metadata": {
        "colab": {
          "base_uri": "https://localhost:8080/"
        },
        "id": "l6n6s7X6u-jL",
        "outputId": "c64e46a5-1b74-4beb-903a-cc743ee30bcd"
      },
      "execution_count": 26,
      "outputs": [
        {
          "output_type": "stream",
          "name": "stdout",
          "text": [
            "Enter a word: for\n",
            "True\n"
          ]
        }
      ]
    },
    {
      "cell_type": "code",
      "source": [
        "my_list = [1, 2, 3]\n",
        "my_tuple = (1, 2, 3)\n",
        "my_list[0] = 10  # works\n",
        "#my_tuple[0] =10 # error\n"
      ],
      "metadata": {
        "id": "yGUlxEecwJN0"
      },
      "execution_count": 28,
      "outputs": []
    },
    {
      "cell_type": "code",
      "source": [
        "def modify(x, y):\n",
        "    x += 5\n",
        "    y.append(5)\n",
        "    return x, y\n",
        "\n",
        "a = 10\n",
        "b = [1, 2]\n",
        "print(modify(a, b))"
      ],
      "metadata": {
        "colab": {
          "base_uri": "https://localhost:8080/"
        },
        "id": "cZPFxHukxVIG",
        "outputId": "2f2d24b1-29b4-40c7-adac-81f3f55d13d0"
      },
      "execution_count": 23,
      "outputs": [
        {
          "output_type": "stream",
          "name": "stdout",
          "text": [
            "(15, [1, 2, 5])\n"
          ]
        }
      ]
    },
    {
      "cell_type": "code",
      "source": [
        "a = int(input(\"Enter value for a:\"))\n",
        "b = int(input(\"Enter value for b:\"))\n",
        "print(\"Sum:\", a + b)\n",
        "print(\"Difference:\", a - b)\n",
        "print(\"Product:\", a * b)\n",
        "print(\"Quotient:\", a / b)"
      ],
      "metadata": {
        "colab": {
          "base_uri": "https://localhost:8080/"
        },
        "id": "yh3r6Z1bxU-z",
        "outputId": "91c6f53c-ef07-4a89-dc82-44a5f45ffad3"
      },
      "execution_count": 22,
      "outputs": [
        {
          "output_type": "stream",
          "name": "stdout",
          "text": [
            "Enter value for a:10\n",
            "Enter value for b:5\n",
            "Sum: 15\n",
            "Difference: 5\n",
            "Product: 50\n",
            "Quotient: 2.0\n"
          ]
        }
      ]
    },
    {
      "cell_type": "code",
      "source": [
        "a = 5\n",
        "b = 10\n",
        "print(a > 2 and b > 5)\n",
        "print(a > 2 or b < 5)\n",
        "print(not(a > 2))"
      ],
      "metadata": {
        "colab": {
          "base_uri": "https://localhost:8080/"
        },
        "id": "vPY6ibHfxU19",
        "outputId": "165808d0-7cb9-4be1-80a1-a3d2673f8021"
      },
      "execution_count": 29,
      "outputs": [
        {
          "output_type": "stream",
          "name": "stdout",
          "text": [
            "True\n",
            "True\n",
            "False\n"
          ]
        }
      ]
    },
    {
      "cell_type": "code",
      "source": [
        "s = input(\"Enter a number: \")\n",
        "print(int(s))\n",
        "print(float(s))\n",
        "print(bool(int(s)))"
      ],
      "metadata": {
        "colab": {
          "base_uri": "https://localhost:8080/"
        },
        "id": "t8eEglMpxUrf",
        "outputId": "a7f54632-ef2b-44a8-dde6-fa2f572cb38c"
      },
      "execution_count": 30,
      "outputs": [
        {
          "output_type": "stream",
          "name": "stdout",
          "text": [
            "Enter a number: 11\n",
            "11\n",
            "11.0\n",
            "True\n"
          ]
        }
      ]
    },
    {
      "cell_type": "code",
      "source": [
        "lst = [\"1\", \"2\", \"3\"]\n",
        "int_lst = [int(i) for i in lst]\n",
        "print(int_lst)"
      ],
      "metadata": {
        "colab": {
          "base_uri": "https://localhost:8080/"
        },
        "id": "IKIezT622aTb",
        "outputId": "26348d53-2d7d-42da-da04-e341866e5639"
      },
      "execution_count": 31,
      "outputs": [
        {
          "output_type": "stream",
          "name": "stdout",
          "text": [
            "[1, 2, 3]\n"
          ]
        }
      ]
    },
    {
      "cell_type": "code",
      "source": [
        "n = int(input(\"Enter a number: \"))\n",
        "if n > 0:\n",
        "    print(\"Positive\")\n",
        "elif n < 0:\n",
        "    print(\"Negative\")\n",
        "else:\n",
        "    print(\"Zero\")"
      ],
      "metadata": {
        "colab": {
          "base_uri": "https://localhost:8080/"
        },
        "id": "DwjcCTSW2aI-",
        "outputId": "080a2a2b-3673-4761-a1af-1d90d314f27e"
      },
      "execution_count": 32,
      "outputs": [
        {
          "output_type": "stream",
          "name": "stdout",
          "text": [
            "Enter a number: 15\n",
            "Positive\n"
          ]
        }
      ]
    },
    {
      "cell_type": "code",
      "source": [
        "for i in range(1, 11):\n",
        "    print(i)"
      ],
      "metadata": {
        "colab": {
          "base_uri": "https://localhost:8080/"
        },
        "id": "oEhT-OHM2aBT",
        "outputId": "da2bf802-275a-4260-f566-1fa12a5d89ed"
      },
      "execution_count": 33,
      "outputs": [
        {
          "output_type": "stream",
          "name": "stdout",
          "text": [
            "1\n",
            "2\n",
            "3\n",
            "4\n",
            "5\n",
            "6\n",
            "7\n",
            "8\n",
            "9\n",
            "10\n"
          ]
        }
      ]
    },
    {
      "cell_type": "code",
      "source": [
        "total = 0\n",
        "for i in range(2, 51, 2):\n",
        "    total += i\n",
        "print(\"Sum:\", total)"
      ],
      "metadata": {
        "colab": {
          "base_uri": "https://localhost:8080/"
        },
        "id": "6a1wn6Mz2Z2u",
        "outputId": "b128205e-d1d5-4c19-a1a1-ea1459738b4f"
      },
      "execution_count": 34,
      "outputs": [
        {
          "output_type": "stream",
          "name": "stdout",
          "text": [
            "Sum: 650\n"
          ]
        }
      ]
    },
    {
      "cell_type": "code",
      "source": [
        "s = input(\"Enter a string: \")\n",
        "rev = \"\"\n",
        "i = len(s) - 1\n",
        "while i >= 0:\n",
        "    rev += s[i]\n",
        "    i -= 1\n",
        "print(\"Reversed string:\", rev)"
      ],
      "metadata": {
        "colab": {
          "base_uri": "https://localhost:8080/"
        },
        "id": "lXmj8iEBxUbq",
        "outputId": "dfe2f3a7-8041-44f3-d170-f81f1b9d10ca"
      },
      "execution_count": 35,
      "outputs": [
        {
          "output_type": "stream",
          "name": "stdout",
          "text": [
            "Enter a string: ram\n",
            "Reversed string: mar\n"
          ]
        }
      ]
    },
    {
      "cell_type": "code",
      "source": [
        "n = int(input(\"Enter a number: \"))\n",
        "fact = 1\n",
        "while n > 1:\n",
        "    fact *= n\n",
        "    n -= 1\n",
        "print(\"Factorial:\", fact)"
      ],
      "metadata": {
        "colab": {
          "base_uri": "https://localhost:8080/"
        },
        "id": "7p0z6uvdxGTk",
        "outputId": "5c213041-690f-4d30-e721-7d9d9980b285"
      },
      "execution_count": 37,
      "outputs": [
        {
          "output_type": "stream",
          "name": "stdout",
          "text": [
            "Enter a number: 12\n",
            "Factorial: 479001600\n"
          ]
        }
      ]
    }
  ]
}